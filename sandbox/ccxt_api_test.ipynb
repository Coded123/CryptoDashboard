{
 "cells": [
  {
   "cell_type": "code",
   "execution_count": 4,
   "id": "73abc192",
   "metadata": {},
   "outputs": [],
   "source": [
    "import time\n",
    "from pprint import pprint\n",
    "import ccxt\n",
    "import ta\n",
    "import pandas as pd\n",
    "import numpy as np\n",
    "import schedule\n",
    "import time\n",
    "import datetime"
   ]
  },
  {
   "cell_type": "markdown",
   "id": "fc719598",
   "metadata": {},
   "source": [
    "Useful links\n",
    "\n",
    "- https://github.com/ccxt/ccxt"
   ]
  },
  {
   "cell_type": "code",
   "execution_count": 5,
   "id": "cee301f4",
   "metadata": {},
   "outputs": [],
   "source": [
    "import ccxt\n",
    "import pandas as pd\n",
    "import numpy as np"
   ]
  },
  {
   "cell_type": "code",
   "execution_count": 6,
   "id": "52edfba8-b86d-46c1-83cc-5b81e41d050b",
   "metadata": {},
   "outputs": [],
   "source": [
    "timestamps = [1609459200000,\n",
    "             1612137600000,\n",
    "             1614556800000,\n",
    "             1617235200000,\n",
    "             1619827200000,\n",
    "             1622505600000,\n",
    "             1625097600000,\n",
    "             1627776000000,\n",
    "             1630454400000,\n",
    "             1633046400000,\n",
    "             1635724800000,\n",
    "             1638316800000]\n",
    "\n",
    "\n",
    "\n",
    "exchange = ccxt.bittrex()\n",
    "\n",
    "cols = ['timestamp', 'open', 'high', 'low', 'close', 'vol']\n",
    "dfs = []\n",
    "\n",
    "for timestamp in timestamps:\n",
    "    #gets the data from the start of the month\n",
    "    d = exchange.fetch_ohlcv('ETH/USDT', timeframe='1h',\n",
    "                         since = timestamp)\n",
    "    \n",
    "    #puts the data in a usable format and changes column names\n",
    "    df = pd.DataFrame(data =d, columns = cols)\n",
    "    \n",
    "    #converts the date column into something we can understand\n",
    "    df['timestamp'] = pd.to_datetime(df['timestamp'], unit='ms')\n",
    "    \n",
    "    #put all the small dataframes for each month in a list\n",
    "    dfs.append(df)"
   ]
  },
  {
   "cell_type": "code",
   "execution_count": null,
   "id": "808f4c2d-bdb0-4949-8387-f847b89a9119",
   "metadata": {},
   "outputs": [],
   "source": [
    "#combine the monthly dataframes into one big one\n",
    "eth_1h = pd.concat(dfs).reset_index(drop=True)"
   ]
  },
  {
   "cell_type": "code",
   "execution_count": null,
   "id": "7de7df0b-1701-411b-82a5-f72f19edd83f",
   "metadata": {},
   "outputs": [
    {
     "data": {
      "text/html": [
       "<div>\n",
       "<style scoped>\n",
       "    .dataframe tbody tr th:only-of-type {\n",
       "        vertical-align: middle;\n",
       "    }\n",
       "\n",
       "    .dataframe tbody tr th {\n",
       "        vertical-align: top;\n",
       "    }\n",
       "\n",
       "    .dataframe thead th {\n",
       "        text-align: right;\n",
       "    }\n",
       "</style>\n",
       "<table border=\"1\" class=\"dataframe\">\n",
       "  <thead>\n",
       "    <tr style=\"text-align: right;\">\n",
       "      <th></th>\n",
       "      <th>timestamp</th>\n",
       "      <th>open</th>\n",
       "      <th>high</th>\n",
       "      <th>low</th>\n",
       "      <th>close</th>\n",
       "      <th>vol</th>\n",
       "    </tr>\n",
       "  </thead>\n",
       "  <tbody>\n",
       "    <tr>\n",
       "      <th>0</th>\n",
       "      <td>2021-01-01 00:00:00</td>\n",
       "      <td>737.999995</td>\n",
       "      <td>738.493282</td>\n",
       "      <td>730.000000</td>\n",
       "      <td>735.024762</td>\n",
       "      <td>68.660671</td>\n",
       "    </tr>\n",
       "    <tr>\n",
       "      <th>1</th>\n",
       "      <td>2021-01-01 01:00:00</td>\n",
       "      <td>734.345840</td>\n",
       "      <td>748.561401</td>\n",
       "      <td>734.345840</td>\n",
       "      <td>748.000000</td>\n",
       "      <td>168.698874</td>\n",
       "    </tr>\n",
       "    <tr>\n",
       "      <th>2</th>\n",
       "      <td>2021-01-01 02:00:00</td>\n",
       "      <td>747.861956</td>\n",
       "      <td>748.992147</td>\n",
       "      <td>742.920000</td>\n",
       "      <td>745.316243</td>\n",
       "      <td>135.572572</td>\n",
       "    </tr>\n",
       "    <tr>\n",
       "      <th>3</th>\n",
       "      <td>2021-01-01 03:00:00</td>\n",
       "      <td>744.816002</td>\n",
       "      <td>747.658423</td>\n",
       "      <td>743.800000</td>\n",
       "      <td>745.301692</td>\n",
       "      <td>173.561005</td>\n",
       "    </tr>\n",
       "    <tr>\n",
       "      <th>4</th>\n",
       "      <td>2021-01-01 04:00:00</td>\n",
       "      <td>745.952744</td>\n",
       "      <td>747.382529</td>\n",
       "      <td>740.176450</td>\n",
       "      <td>743.050501</td>\n",
       "      <td>66.603023</td>\n",
       "    </tr>\n",
       "    <tr>\n",
       "      <th>...</th>\n",
       "      <td>...</td>\n",
       "      <td>...</td>\n",
       "      <td>...</td>\n",
       "      <td>...</td>\n",
       "      <td>...</td>\n",
       "      <td>...</td>\n",
       "    </tr>\n",
       "    <tr>\n",
       "      <th>8755</th>\n",
       "      <td>2021-12-31 19:00:00</td>\n",
       "      <td>3701.358048</td>\n",
       "      <td>3701.358048</td>\n",
       "      <td>3622.896088</td>\n",
       "      <td>3627.671703</td>\n",
       "      <td>22.178103</td>\n",
       "    </tr>\n",
       "    <tr>\n",
       "      <th>8756</th>\n",
       "      <td>2021-12-31 20:00:00</td>\n",
       "      <td>3624.677826</td>\n",
       "      <td>3661.967276</td>\n",
       "      <td>3623.852969</td>\n",
       "      <td>3644.261364</td>\n",
       "      <td>8.454489</td>\n",
       "    </tr>\n",
       "    <tr>\n",
       "      <th>8757</th>\n",
       "      <td>2021-12-31 21:00:00</td>\n",
       "      <td>3646.521801</td>\n",
       "      <td>3697.965890</td>\n",
       "      <td>3635.388800</td>\n",
       "      <td>3688.486856</td>\n",
       "      <td>33.498243</td>\n",
       "    </tr>\n",
       "    <tr>\n",
       "      <th>8758</th>\n",
       "      <td>2021-12-31 22:00:00</td>\n",
       "      <td>3685.677057</td>\n",
       "      <td>3710.644070</td>\n",
       "      <td>3676.297758</td>\n",
       "      <td>3683.106297</td>\n",
       "      <td>22.730084</td>\n",
       "    </tr>\n",
       "    <tr>\n",
       "      <th>8759</th>\n",
       "      <td>2021-12-31 23:00:00</td>\n",
       "      <td>3684.269523</td>\n",
       "      <td>3697.049476</td>\n",
       "      <td>3677.810254</td>\n",
       "      <td>3677.810254</td>\n",
       "      <td>8.035150</td>\n",
       "    </tr>\n",
       "  </tbody>\n",
       "</table>\n",
       "<p>8760 rows × 6 columns</p>\n",
       "</div>"
      ],
      "text/plain": [
       "               timestamp         open         high          low        close  \\\n",
       "0    2021-01-01 00:00:00   737.999995   738.493282   730.000000   735.024762   \n",
       "1    2021-01-01 01:00:00   734.345840   748.561401   734.345840   748.000000   \n",
       "2    2021-01-01 02:00:00   747.861956   748.992147   742.920000   745.316243   \n",
       "3    2021-01-01 03:00:00   744.816002   747.658423   743.800000   745.301692   \n",
       "4    2021-01-01 04:00:00   745.952744   747.382529   740.176450   743.050501   \n",
       "...                  ...          ...          ...          ...          ...   \n",
       "8755 2021-12-31 19:00:00  3701.358048  3701.358048  3622.896088  3627.671703   \n",
       "8756 2021-12-31 20:00:00  3624.677826  3661.967276  3623.852969  3644.261364   \n",
       "8757 2021-12-31 21:00:00  3646.521801  3697.965890  3635.388800  3688.486856   \n",
       "8758 2021-12-31 22:00:00  3685.677057  3710.644070  3676.297758  3683.106297   \n",
       "8759 2021-12-31 23:00:00  3684.269523  3697.049476  3677.810254  3677.810254   \n",
       "\n",
       "             vol  \n",
       "0      68.660671  \n",
       "1     168.698874  \n",
       "2     135.572572  \n",
       "3     173.561005  \n",
       "4      66.603023  \n",
       "...          ...  \n",
       "8755   22.178103  \n",
       "8756    8.454489  \n",
       "8757   33.498243  \n",
       "8758   22.730084  \n",
       "8759    8.035150  \n",
       "\n",
       "[8760 rows x 6 columns]"
      ]
     },
     "execution_count": 5,
     "metadata": {},
     "output_type": "execute_result"
    }
   ],
   "source": [
    "eth_1h"
   ]
  },
  {
   "cell_type": "code",
   "execution_count": null,
   "id": "34b1dfaf",
   "metadata": {},
   "outputs": [],
   "source": [
    "'''\n",
    "Other time frames\n",
    "            'timeframes': {\n",
    "                '1m': 'MINUTE_1',\n",
    "                '5m': 'MINUTE_5',\n",
    "                '1h': 'HOUR_1',\n",
    "                '1d': 'DAY_1',\n",
    "            },\n",
    "'''"
   ]
  },
  {
   "cell_type": "markdown",
   "id": "66197f8b",
   "metadata": {},
   "source": [
    "#### some playing around I did "
   ]
  },
  {
   "cell_type": "code",
   "execution_count": null,
   "id": "cf81e8fc",
   "metadata": {},
   "outputs": [],
   "source": [
    "df = eth_1h.iloc[2800:3500]"
   ]
  },
  {
   "cell_type": "code",
   "execution_count": null,
   "id": "f5048633-75a1-4307-952a-c776776887db",
   "metadata": {},
   "outputs": [],
   "source": [
    "import plotly.graph_objects as go\n",
    "from plotly.subplots import make_subplots\n",
    "\n",
    "fig = make_subplots(specs=[[{\"secondary_y\": True}]])\n",
    "\n",
    "fig.add_trace(go.Candlestick(x=df['timestamp'],\n",
    "                open=df['open'],\n",
    "                high=df['high'],\n",
    "                low=df['low'],\n",
    "                close=df['close']), secondary_y = True)\n",
    "\n",
    "fig.add_trace(go.Bar(x=df['timestamp'], y=df['vol'], opacity=1),\n",
    "               secondary_y=False)\n",
    "\n",
    "fig.layout.yaxis2.showgrid=False\n",
    "fig.show()"
   ]
  },
  {
   "cell_type": "code",
   "execution_count": null,
   "id": "3a6b0fbd-fe47-4e17-9bcd-bd772ac90bc3",
   "metadata": {
    "scrolled": true
   },
   "outputs": [],
   "source": [
    "np.abs(eth_1h['close'] - eth_1h['open']).argmax()"
   ]
  },
  {
   "cell_type": "code",
   "execution_count": null,
   "id": "ef803634-ac44-4130-9dc7-df8035dd21f1",
   "metadata": {
    "scrolled": true
   },
   "outputs": [],
   "source": [
    "eth_1h.iloc[3167]"
   ]
  },
  {
   "cell_type": "code",
   "execution_count": null,
   "id": "53ffd7bc",
   "metadata": {},
   "outputs": [],
   "source": []
  },
  {
   "cell_type": "code",
   "execution_count": null,
   "id": "6408ae41-d683-4b7a-8fc1-a690a94e626e",
   "metadata": {},
   "outputs": [],
   "source": [
    "eth_1h['vol'].hist(bins=100)"
   ]
  },
  {
   "cell_type": "code",
   "execution_count": null,
   "id": "48d971a3-c64f-4cd6-9de5-489cc7d1e0f2",
   "metadata": {},
   "outputs": [],
   "source": [
    "eth_1h.head()"
   ]
  },
  {
   "cell_type": "code",
   "execution_count": null,
   "id": "13e169e9",
   "metadata": {},
   "outputs": [],
   "source": [
    "eth_1h.groupby(['month']).describe()"
   ]
  },
  {
   "cell_type": "code",
   "execution_count": null,
   "id": "a45b4132-c323-4d30-ae50-cfc62d2cf082",
   "metadata": {},
   "outputs": [],
   "source": [
    "eth_1h['hour'] = eth_1h.timestamp.dt.hour"
   ]
  },
  {
   "cell_type": "code",
   "execution_count": null,
   "id": "745a2d9d-5db3-4d42-ae71-e6d450f1530c",
   "metadata": {},
   "outputs": [],
   "source": [
    "eth_1h[eth_1h['vol'] > eth_1h['vol'].quantile(.99)].groupby('hour')['vol'].mean()"
   ]
  },
  {
   "cell_type": "code",
   "execution_count": null,
   "id": "8263689e-23c2-4301-844b-1b379408a547",
   "metadata": {},
   "outputs": [],
   "source": [
    "eth_1h['month'] = eth_1h['timestamp'].dt.month"
   ]
  },
  {
   "cell_type": "code",
   "execution_count": null,
   "id": "8c64c4ce",
   "metadata": {},
   "outputs": [],
   "source": [
    "eth_1h.groupby('month')['vol'].mean()"
   ]
  },
  {
   "cell_type": "code",
   "execution_count": null,
   "id": "94defdc2",
   "metadata": {},
   "outputs": [],
   "source": [
    "eth_1h.query(\"month == 9\")"
   ]
  },
  {
   "cell_type": "code",
   "execution_count": null,
   "id": "37bd0b41",
   "metadata": {},
   "outputs": [],
   "source": [
    "eth_1h.groupby(['month','hour']).std().sort_values(by=['close'], ascending=False)"
   ]
  },
  {
   "cell_type": "code",
   "execution_count": null,
   "id": "196a785e",
   "metadata": {},
   "outputs": [],
   "source": [
    "eth_1h['close'].corr(eth_1h['close'].shift(1000))"
   ]
  },
  {
   "cell_type": "code",
   "execution_count": null,
   "id": "443255e5",
   "metadata": {},
   "outputs": [],
   "source": []
  }
 ],
 "metadata": {
  "kernelspec": {
   "display_name": "Python 3",
   "language": "python",
   "name": "python3"
  },
  "language_info": {
   "codemirror_mode": {
    "name": "ipython",
    "version": 3
   },
   "file_extension": ".py",
   "mimetype": "text/x-python",
   "name": "python",
   "nbconvert_exporter": "python",
   "pygments_lexer": "ipython3",
   "version": "3.7.11"
  }
 },
 "nbformat": 4,
 "nbformat_minor": 5
}
