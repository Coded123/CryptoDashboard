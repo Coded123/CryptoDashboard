{
 "cells": [
  {
   "cell_type": "markdown",
   "metadata": {},
   "source": [
    "# Candlestick notebook"
   ]
  },
  {
   "cell_type": "code",
   "execution_count": null,
   "metadata": {},
   "outputs": [],
   "source": [
    "# add your imports here"
   ]
  },
  {
   "cell_type": "markdown",
   "metadata": {},
   "source": [
    "#### Fetch data\n",
    "- You'll need to make an API call to get the data\n",
    "- Have a think about what feature you would like to change on the graph and how you should change the api call to get the data you want, for example:\n",
    "  - Time frequency (minute, hour, day, week, month)\n",
    "  - Coin (ETH, BTC, DOGE)\n",
    "  - Time range (02/10/2008- 01/01/1012)\n",
    "  - anything else?"
   ]
  },
  {
   "cell_type": "code",
   "execution_count": null,
   "metadata": {},
   "outputs": [],
   "source": []
  },
  {
   "cell_type": "markdown",
   "metadata": {},
   "source": [
    "#### Manipulate\n",
    "I dunno how the data is returned here but you might need to:\n",
    "- remove nans\n",
    "- arrange the columns so you can plot a candlestick\n",
    "- group time periods together (you might not need to do this depending on your api call)"
   ]
  },
  {
   "cell_type": "code",
   "execution_count": null,
   "metadata": {},
   "outputs": [],
   "source": []
  },
  {
   "cell_type": "markdown",
   "metadata": {},
   "source": [
    "#### Plot the data\n",
    "- Theres alot of different ways to do this. PLotly is a good option, matplotlib is also a solid choice.\n",
    "- If you have a ply with matplotlib try to get an intuitive understanding of what `fig, ax = subplots()` does"
   ]
  }
 ],
 "metadata": {
  "language_info": {
   "name": "python"
  },
  "orig_nbformat": 4
 },
 "nbformat": 4,
 "nbformat_minor": 2
}
